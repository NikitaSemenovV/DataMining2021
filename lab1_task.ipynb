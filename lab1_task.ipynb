{
 "cells": [
  {
   "cell_type": "markdown",
   "metadata": {},
   "source": [
    "# Лабараторная №1. Основый предобработки данных "
   ]
  },
  {
   "cell_type": "markdown",
   "metadata": {},
   "source": [
    "Используйте файл своей группы. <br>\n",
    "Загрузите его в DataFrame и ответьте на вопросы, используя инстурменты из файла preprocessing.ipynb.\n",
    "\n",
    "\n",
    "#### Воспросы\n",
    "1. В какой шкале представлены все признаки в наборе?<br>\n",
    "2. Укажите признак с наименьшей дисперсией.<br>\n",
    "3. Среднее какого признака отличается для двух классов сильнее всего?<br>\n",
    "4. В каком классе больше всего skilled работников?<br>\n",
    "5. Есть ли в наборе признаки с выбросами? Какие?<br>\n",
    "6. Сколько пропущенных значений в наборе?<br>\n",
    "7. Попытайтесь заполнить пропущенные значения.<br>\n",
    "8. Как минимум для одного признака каждого типа постройте диаграмму, которая может помочь его исследовать.<br>\n",
    "9. Проанализируйте взаимосвязи признаков с помощью scatter-plot матрицы и тепловой карты корреляций. Какие выводы можно сделать?<br>\n",
    "10. Какой признак(и) имеет смысл стандартизировать? Почему?<br>\n",
    "11. Придумайте 1 новый признак, попытайтесь объяснить, почему он информативный.<br>"
   ]
  },
  {
   "cell_type": "markdown",
   "metadata": {},
   "source": [
    "#### Ответы\n",
    "1. В какой шкале представлены все признаки в наборе?<br>\n",
    "checking_status    - порядковая <br>\n",
    "duration           - абсолютная<br>\n",
    "credit_history     - номинальная<br> \n",
    "purpose            - номинальная<br>\n",
    "credit_amount      - абсолютная<br> \n",
    "savings_status     - номинальная<br>\n",
    "employment         - порядковая<br>\n",
    "personal_status    - порядковая<br>\n",
    "property_magnitude - номинальная<br>\n",
    "age                - абсолютная<br>\n",
    "housing            - номинальная<br>\n",
    "existing_credits   - абсолютная<br>\n",
    "job                - номинальная<br>\n",
    "num_dependents     - абсолютная<br>\n",
    "foreign_worker     - номинальная<br>\n",
    "class              - номинальная<br>\n",
    "<br>\n",
    "2. Укажите признак с наименьшей дисперсией.<br>\n",
    "num_dependents<br><br>\n",
    "3. Среднее какого признака отличается для двух классов сильнее всего?<br>\n",
    "credit_amount<br><br>\n",
    "4. В каком классе больше всего skilled работников?<br>\n",
    "good (232)<br><br>\n",
    "5. Есть ли в наборе признаки с выбросами? Какие?<br>\n",
    "В credit_amount есть выбросы (гигантские кредиты), но скорее всего это особенность данных.<br>\n",
    "Но забавляет самоуверенность людей, которые просят на radio/tv 10961.0 баксов...<br><br>\n",
    "6. Сколько пропущенных значений в наборе?<br>\n",
    "checking_status    -    194<br>\n",
    "savings_status     -     88<br>\n",
    "housing            -     27<br>\n",
    "<br>\n",
    "7. Попытайтесь заполнить пропущенные значения.<br>\n",
    "credit_df.fillna('Unknown').head()<br><br>\n",
    "8. Как минимум для одного признака каждого типа постройте диаграмму, которая может помочь его исследовать.<br>\n",
    "9. Проанализируйте взаимосвязи признаков с помощью scatter-plot матрицы и тепловой карты корреляций. Какие выводы можно сделать?<br>\n",
    "10. Какой признак(и) имеет смысл стандартизировать? Почему?<br>\n",
    "11. Придумайте 1 новый признак, попытайтесь объяснить, почему он информативный.<br>"
   ]
  },
  {
   "cell_type": "code",
   "execution_count": 1,
   "metadata": {},
   "outputs": [],
   "source": [
    "#pip install numpy\n",
    "#pip install pandas\n",
    "#pip install matplotlib\n",
    "#pip install seaborn\n",
    "#pip install sklearn"
   ]
  },
  {
   "cell_type": "code",
   "execution_count": 2,
   "metadata": {},
   "outputs": [],
   "source": [
    "import numpy as np\n",
    "import pandas as pd\n",
    "\n",
    "import matplotlib.pyplot as plt\n",
    "\n",
    "import seaborn as sns\n",
    "\n",
    "from sklearn import datasets\n",
    "from sklearn.preprocessing import MinMaxScaler\n",
    "from sklearn.preprocessing import StandardScaler\n",
    "\n",
    "np.set_printoptions(precision=3)\n",
    "pd.set_option('precision', 3)\n",
    "\n",
    "sns.set()"
   ]
  },
  {
   "cell_type": "code",
   "execution_count": 3,
   "metadata": {},
   "outputs": [
    {
     "data": {
      "text/html": [
       "<div>\n",
       "<style scoped>\n",
       "    .dataframe tbody tr th:only-of-type {\n",
       "        vertical-align: middle;\n",
       "    }\n",
       "\n",
       "    .dataframe tbody tr th {\n",
       "        vertical-align: top;\n",
       "    }\n",
       "\n",
       "    .dataframe thead th {\n",
       "        text-align: right;\n",
       "    }\n",
       "</style>\n",
       "<table border=\"1\" class=\"dataframe\">\n",
       "  <thead>\n",
       "    <tr style=\"text-align: right;\">\n",
       "      <th></th>\n",
       "      <th>checking_status</th>\n",
       "      <th>duration</th>\n",
       "      <th>credit_history</th>\n",
       "      <th>purpose</th>\n",
       "      <th>credit_amount</th>\n",
       "      <th>savings_status</th>\n",
       "      <th>employment</th>\n",
       "      <th>personal_status</th>\n",
       "      <th>property_magnitude</th>\n",
       "      <th>age</th>\n",
       "      <th>housing</th>\n",
       "      <th>existing_credits</th>\n",
       "      <th>job</th>\n",
       "      <th>num_dependents</th>\n",
       "      <th>foreign_worker</th>\n",
       "      <th>class</th>\n",
       "    </tr>\n",
       "  </thead>\n",
       "  <tbody>\n",
       "    <tr>\n",
       "      <th>0</th>\n",
       "      <td>&lt;0</td>\n",
       "      <td>6.0</td>\n",
       "      <td>critical/other existing credit</td>\n",
       "      <td>radio/tv</td>\n",
       "      <td>1169.0</td>\n",
       "      <td>no known savings</td>\n",
       "      <td>&gt;=7</td>\n",
       "      <td>male single</td>\n",
       "      <td>real estate</td>\n",
       "      <td>67.0</td>\n",
       "      <td>own</td>\n",
       "      <td>2.0</td>\n",
       "      <td>skilled</td>\n",
       "      <td>1.0</td>\n",
       "      <td>yes</td>\n",
       "      <td>good</td>\n",
       "    </tr>\n",
       "    <tr>\n",
       "      <th>1</th>\n",
       "      <td>0&lt;=X&lt;200</td>\n",
       "      <td>48.0</td>\n",
       "      <td>existing paid</td>\n",
       "      <td>radio/tv</td>\n",
       "      <td>5951.0</td>\n",
       "      <td>&lt;100</td>\n",
       "      <td>1&lt;=X&lt;4</td>\n",
       "      <td>female div/dep/mar</td>\n",
       "      <td>real estate</td>\n",
       "      <td>22.0</td>\n",
       "      <td>own</td>\n",
       "      <td>1.0</td>\n",
       "      <td>skilled</td>\n",
       "      <td>1.0</td>\n",
       "      <td>yes</td>\n",
       "      <td>bad</td>\n",
       "    </tr>\n",
       "    <tr>\n",
       "      <th>2</th>\n",
       "      <td>no checking</td>\n",
       "      <td>12.0</td>\n",
       "      <td>critical/other existing credit</td>\n",
       "      <td>education</td>\n",
       "      <td>2096.0</td>\n",
       "      <td>&lt;100</td>\n",
       "      <td>4&lt;=X&lt;7</td>\n",
       "      <td>male single</td>\n",
       "      <td>real estate</td>\n",
       "      <td>49.0</td>\n",
       "      <td>own</td>\n",
       "      <td>1.0</td>\n",
       "      <td>unskilled resident</td>\n",
       "      <td>2.0</td>\n",
       "      <td>yes</td>\n",
       "      <td>good</td>\n",
       "    </tr>\n",
       "    <tr>\n",
       "      <th>3</th>\n",
       "      <td>&lt;0</td>\n",
       "      <td>42.0</td>\n",
       "      <td>existing paid</td>\n",
       "      <td>furniture/equipment</td>\n",
       "      <td>7882.0</td>\n",
       "      <td>&lt;100</td>\n",
       "      <td>4&lt;=X&lt;7</td>\n",
       "      <td>male single</td>\n",
       "      <td>life insurance</td>\n",
       "      <td>45.0</td>\n",
       "      <td>for free</td>\n",
       "      <td>1.0</td>\n",
       "      <td>skilled</td>\n",
       "      <td>2.0</td>\n",
       "      <td>yes</td>\n",
       "      <td>good</td>\n",
       "    </tr>\n",
       "    <tr>\n",
       "      <th>4</th>\n",
       "      <td>&lt;0</td>\n",
       "      <td>24.0</td>\n",
       "      <td>delayed previously</td>\n",
       "      <td>new car</td>\n",
       "      <td>4870.0</td>\n",
       "      <td>&lt;100</td>\n",
       "      <td>1&lt;=X&lt;4</td>\n",
       "      <td>male single</td>\n",
       "      <td>no known property</td>\n",
       "      <td>53.0</td>\n",
       "      <td>for free</td>\n",
       "      <td>2.0</td>\n",
       "      <td>skilled</td>\n",
       "      <td>2.0</td>\n",
       "      <td>yes</td>\n",
       "      <td>bad</td>\n",
       "    </tr>\n",
       "  </tbody>\n",
       "</table>\n",
       "</div>"
      ],
      "text/plain": [
       "  checking_status  duration                  credit_history  \\\n",
       "0              <0       6.0  critical/other existing credit   \n",
       "1        0<=X<200      48.0                   existing paid   \n",
       "2     no checking      12.0  critical/other existing credit   \n",
       "3              <0      42.0                   existing paid   \n",
       "4              <0      24.0              delayed previously   \n",
       "\n",
       "               purpose  credit_amount    savings_status employment  \\\n",
       "0             radio/tv         1169.0  no known savings        >=7   \n",
       "1             radio/tv         5951.0              <100     1<=X<4   \n",
       "2            education         2096.0              <100     4<=X<7   \n",
       "3  furniture/equipment         7882.0              <100     4<=X<7   \n",
       "4              new car         4870.0              <100     1<=X<4   \n",
       "\n",
       "      personal_status property_magnitude   age   housing  existing_credits  \\\n",
       "0         male single        real estate  67.0       own               2.0   \n",
       "1  female div/dep/mar        real estate  22.0       own               1.0   \n",
       "2         male single        real estate  49.0       own               1.0   \n",
       "3         male single     life insurance  45.0  for free               1.0   \n",
       "4         male single  no known property  53.0  for free               2.0   \n",
       "\n",
       "                  job  num_dependents foreign_worker class  \n",
       "0             skilled             1.0            yes  good  \n",
       "1             skilled             1.0            yes   bad  \n",
       "2  unskilled resident             2.0            yes  good  \n",
       "3             skilled             2.0            yes  good  \n",
       "4             skilled             2.0            yes   bad  "
      ]
     },
     "execution_count": 3,
     "metadata": {},
     "output_type": "execute_result"
    }
   ],
   "source": [
    "path='credit_3530903_70302.csv'\n",
    "credit_df = pd.read_csv(path, index_col=0)\n",
    "credit_df.head()"
   ]
  },
  {
   "cell_type": "code",
   "execution_count": 4,
   "metadata": {},
   "outputs": [
    {
     "data": {
      "text/plain": [
       "(501, 16)"
      ]
     },
     "execution_count": 4,
     "metadata": {},
     "output_type": "execute_result"
    }
   ],
   "source": [
    "credit_df.shape"
   ]
  },
  {
   "cell_type": "code",
   "execution_count": 5,
   "metadata": {},
   "outputs": [
    {
     "name": "stdout",
     "output_type": "stream",
     "text": [
      "<class 'pandas.core.frame.DataFrame'>\n",
      "Int64Index: 501 entries, 0 to 500\n",
      "Data columns (total 16 columns):\n",
      " #   Column              Non-Null Count  Dtype  \n",
      "---  ------              --------------  -----  \n",
      " 0   checking_status     501 non-null    object \n",
      " 1   duration            501 non-null    float64\n",
      " 2   credit_history      501 non-null    object \n",
      " 3   purpose             501 non-null    object \n",
      " 4   credit_amount       501 non-null    float64\n",
      " 5   savings_status      501 non-null    object \n",
      " 6   employment          501 non-null    object \n",
      " 7   personal_status     501 non-null    object \n",
      " 8   property_magnitude  501 non-null    object \n",
      " 9   age                 501 non-null    float64\n",
      " 10  housing             474 non-null    object \n",
      " 11  existing_credits    501 non-null    float64\n",
      " 12  job                 501 non-null    object \n",
      " 13  num_dependents      501 non-null    float64\n",
      " 14  foreign_worker      501 non-null    object \n",
      " 15  class               501 non-null    object \n",
      "dtypes: float64(5), object(11)\n",
      "memory usage: 66.5+ KB\n"
     ]
    }
   ],
   "source": [
    "credit_df.info()"
   ]
  },
  {
   "cell_type": "code",
   "execution_count": 6,
   "metadata": {},
   "outputs": [
    {
     "data": {
      "text/html": [
       "<div>\n",
       "<style scoped>\n",
       "    .dataframe tbody tr th:only-of-type {\n",
       "        vertical-align: middle;\n",
       "    }\n",
       "\n",
       "    .dataframe tbody tr th {\n",
       "        vertical-align: top;\n",
       "    }\n",
       "\n",
       "    .dataframe thead th {\n",
       "        text-align: right;\n",
       "    }\n",
       "</style>\n",
       "<table border=\"1\" class=\"dataframe\">\n",
       "  <thead>\n",
       "    <tr style=\"text-align: right;\">\n",
       "      <th></th>\n",
       "      <th>duration</th>\n",
       "      <th>credit_amount</th>\n",
       "      <th>age</th>\n",
       "      <th>existing_credits</th>\n",
       "      <th>num_dependents</th>\n",
       "    </tr>\n",
       "  </thead>\n",
       "  <tbody>\n",
       "    <tr>\n",
       "      <th>count</th>\n",
       "      <td>501.000</td>\n",
       "      <td>501.000</td>\n",
       "      <td>501.000</td>\n",
       "      <td>501.000</td>\n",
       "      <td>501.000</td>\n",
       "    </tr>\n",
       "    <tr>\n",
       "      <th>mean</th>\n",
       "      <td>20.315</td>\n",
       "      <td>3344.756</td>\n",
       "      <td>35.605</td>\n",
       "      <td>1.393</td>\n",
       "      <td>1.144</td>\n",
       "    </tr>\n",
       "    <tr>\n",
       "      <th>std</th>\n",
       "      <td>12.103</td>\n",
       "      <td>5154.839</td>\n",
       "      <td>11.740</td>\n",
       "      <td>0.568</td>\n",
       "      <td>0.351</td>\n",
       "    </tr>\n",
       "    <tr>\n",
       "      <th>min</th>\n",
       "      <td>4.000</td>\n",
       "      <td>0.000</td>\n",
       "      <td>15.000</td>\n",
       "      <td>1.000</td>\n",
       "      <td>1.000</td>\n",
       "    </tr>\n",
       "    <tr>\n",
       "      <th>25%</th>\n",
       "      <td>12.000</td>\n",
       "      <td>1288.000</td>\n",
       "      <td>27.000</td>\n",
       "      <td>1.000</td>\n",
       "      <td>1.000</td>\n",
       "    </tr>\n",
       "    <tr>\n",
       "      <th>50%</th>\n",
       "      <td>18.000</td>\n",
       "      <td>2197.000</td>\n",
       "      <td>33.000</td>\n",
       "      <td>1.000</td>\n",
       "      <td>1.000</td>\n",
       "    </tr>\n",
       "    <tr>\n",
       "      <th>75%</th>\n",
       "      <td>24.000</td>\n",
       "      <td>3915.000</td>\n",
       "      <td>42.000</td>\n",
       "      <td>2.000</td>\n",
       "      <td>1.000</td>\n",
       "    </tr>\n",
       "    <tr>\n",
       "      <th>max</th>\n",
       "      <td>60.000</td>\n",
       "      <td>100042.000</td>\n",
       "      <td>89.000</td>\n",
       "      <td>4.000</td>\n",
       "      <td>2.000</td>\n",
       "    </tr>\n",
       "  </tbody>\n",
       "</table>\n",
       "</div>"
      ],
      "text/plain": [
       "       duration  credit_amount      age  existing_credits  num_dependents\n",
       "count   501.000        501.000  501.000           501.000         501.000\n",
       "mean     20.315       3344.756   35.605             1.393           1.144\n",
       "std      12.103       5154.839   11.740             0.568           0.351\n",
       "min       4.000          0.000   15.000             1.000           1.000\n",
       "25%      12.000       1288.000   27.000             1.000           1.000\n",
       "50%      18.000       2197.000   33.000             1.000           1.000\n",
       "75%      24.000       3915.000   42.000             2.000           1.000\n",
       "max      60.000     100042.000   89.000             4.000           2.000"
      ]
     },
     "execution_count": 6,
     "metadata": {},
     "output_type": "execute_result"
    }
   ],
   "source": [
    "credit_df.describe()\n",
    "#наименьшая дисперсия (std*std) у num_dependents "
   ]
  },
  {
   "cell_type": "code",
   "execution_count": 7,
   "metadata": {},
   "outputs": [
    {
     "data": {
      "text/html": [
       "<div>\n",
       "<style scoped>\n",
       "    .dataframe tbody tr th:only-of-type {\n",
       "        vertical-align: middle;\n",
       "    }\n",
       "\n",
       "    .dataframe tbody tr th {\n",
       "        vertical-align: top;\n",
       "    }\n",
       "\n",
       "    .dataframe thead th {\n",
       "        text-align: right;\n",
       "    }\n",
       "</style>\n",
       "<table border=\"1\" class=\"dataframe\">\n",
       "  <thead>\n",
       "    <tr style=\"text-align: right;\">\n",
       "      <th></th>\n",
       "      <th>duration</th>\n",
       "      <th>credit_amount</th>\n",
       "      <th>age</th>\n",
       "      <th>existing_credits</th>\n",
       "      <th>num_dependents</th>\n",
       "    </tr>\n",
       "    <tr>\n",
       "      <th>class</th>\n",
       "      <th></th>\n",
       "      <th></th>\n",
       "      <th></th>\n",
       "      <th></th>\n",
       "      <th></th>\n",
       "    </tr>\n",
       "  </thead>\n",
       "  <tbody>\n",
       "    <tr>\n",
       "      <th>bad</th>\n",
       "      <td>25.255</td>\n",
       "      <td>4806.358</td>\n",
       "      <td>35.029</td>\n",
       "      <td>1.380</td>\n",
       "      <td>1.153</td>\n",
       "    </tr>\n",
       "    <tr>\n",
       "      <th>good</th>\n",
       "      <td>18.456</td>\n",
       "      <td>2794.648</td>\n",
       "      <td>35.821</td>\n",
       "      <td>1.398</td>\n",
       "      <td>1.140</td>\n",
       "    </tr>\n",
       "  </tbody>\n",
       "</table>\n",
       "</div>"
      ],
      "text/plain": [
       "       duration  credit_amount     age  existing_credits  num_dependents\n",
       "class                                                                   \n",
       "bad      25.255       4806.358  35.029             1.380           1.153\n",
       "good     18.456       2794.648  35.821             1.398           1.140"
      ]
     },
     "execution_count": 7,
     "metadata": {},
     "output_type": "execute_result"
    }
   ],
   "source": [
    "credit_df.groupby('class').mean()\n",
    "#у credit_amount наибольная разница для классов"
   ]
  },
  {
   "cell_type": "code",
   "execution_count": 8,
   "metadata": {},
   "outputs": [
    {
     "data": {
      "text/plain": [
       "class\n",
       "bad      80\n",
       "good    232\n",
       "Name: job, dtype: int64"
      ]
     },
     "execution_count": 8,
     "metadata": {},
     "output_type": "execute_result"
    }
   ],
   "source": [
    "credit_df[credit_df['job']=='skilled'].groupby('class').job.count()\n",
    "# скилловых больше в good - 232"
   ]
  },
  {
   "cell_type": "code",
   "execution_count": 9,
   "metadata": {},
   "outputs": [
    {
     "data": {
      "text/plain": [
       "no checking    194\n",
       "0<=X<200       142\n",
       "<0             129\n",
       ">=200           31\n",
       "0                5\n",
       "Name: checking_status, dtype: int64"
      ]
     },
     "execution_count": 9,
     "metadata": {},
     "output_type": "execute_result"
    }
   ],
   "source": [
    "credit_df.checking_status.value_counts()\n",
    "#checking_status - порядковая шкала\n",
    "#Nan = no checking\n",
    "#зачем \"0\" отдельно???"
   ]
  },
  {
   "cell_type": "code",
   "execution_count": 10,
   "metadata": {},
   "outputs": [],
   "source": [
    "credit_df['checking_status'] = credit_df['checking_status'].replace('no checking', np.NaN)"
   ]
  },
  {
   "cell_type": "code",
   "execution_count": 11,
   "metadata": {},
   "outputs": [
    {
     "data": {
      "text/plain": [
       "existing paid                     269\n",
       "critical/other existing credit    149\n",
       "delayed previously                 46\n",
       "no credits/all paid                21\n",
       "all paid                           16\n",
       "Name: credit_history, dtype: int64"
      ]
     },
     "execution_count": 11,
     "metadata": {},
     "output_type": "execute_result"
    }
   ],
   "source": [
    "credit_df.credit_history.value_counts()\n",
    "#credit_history - номинальная шкала\n",
    "#non-null"
   ]
  },
  {
   "cell_type": "code",
   "execution_count": 12,
   "metadata": {},
   "outputs": [
    {
     "data": {
      "text/plain": [
       "radio/tv               139\n",
       "new car                105\n",
       "furniture/equipment     98\n",
       "not applicable          51\n",
       "used car                51\n",
       "education               25\n",
       "repairs                 12\n",
       "other                    8\n",
       "retraining               6\n",
       "domestic appliance       6\n",
       "Name: purpose, dtype: int64"
      ]
     },
     "execution_count": 12,
     "metadata": {},
     "output_type": "execute_result"
    }
   ],
   "source": [
    "credit_df.purpose.value_counts()\n",
    "#purpose - номинальная шкала\n",
    "#non-null "
   ]
  },
  {
   "cell_type": "code",
   "execution_count": 13,
   "metadata": {},
   "outputs": [
    {
     "data": {
      "text/plain": [
       "<100                302\n",
       "no known savings     88\n",
       "100<=X<500           49\n",
       "500<=X<1000          33\n",
       ">=1000               29\n",
       "Name: savings_status, dtype: int64"
      ]
     },
     "execution_count": 13,
     "metadata": {},
     "output_type": "execute_result"
    }
   ],
   "source": [
    "credit_df.savings_status.value_counts()\n",
    "#savings_status - порядковая шкала\n",
    "#Nan = no known savings"
   ]
  },
  {
   "cell_type": "code",
   "execution_count": 14,
   "metadata": {},
   "outputs": [],
   "source": [
    "credit_df['savings_status'] = credit_df['savings_status'].replace('no known savings', np.NaN)"
   ]
  },
  {
   "cell_type": "code",
   "execution_count": 15,
   "metadata": {},
   "outputs": [
    {
     "data": {
      "text/plain": [
       "1<=X<4        174\n",
       ">=7           129\n",
       "4<=X<7         84\n",
       "<1             80\n",
       "unemployed     34\n",
       "Name: employment, dtype: int64"
      ]
     },
     "execution_count": 15,
     "metadata": {},
     "output_type": "execute_result"
    }
   ],
   "source": [
    "credit_df.employment.value_counts()\n",
    "#employment - порядковая шкала\n",
    "#non-null  "
   ]
  },
  {
   "cell_type": "code",
   "execution_count": 16,
   "metadata": {},
   "outputs": [
    {
     "data": {
      "text/plain": [
       "male single           275\n",
       "female div/dep/mar    153\n",
       "male mar/wid           48\n",
       "male div/sep           25\n",
       "Name: personal_status, dtype: int64"
      ]
     },
     "execution_count": 16,
     "metadata": {},
     "output_type": "execute_result"
    }
   ],
   "source": [
    "credit_df.personal_status.value_counts()\n",
    "#personal_status - номинальная\n",
    "#non-null  "
   ]
  },
  {
   "cell_type": "code",
   "execution_count": 17,
   "metadata": {},
   "outputs": [
    {
     "data": {
      "text/plain": [
       "car                  173\n",
       "real estate          147\n",
       "life insurance       103\n",
       "no known property     78\n",
       "Name: property_magnitude, dtype: int64"
      ]
     },
     "execution_count": 17,
     "metadata": {},
     "output_type": "execute_result"
    }
   ],
   "source": [
    "credit_df.property_magnitude.value_counts()\n",
    "#property_magnitude - номинальная шкала\n",
    "#non-null  "
   ]
  },
  {
   "cell_type": "code",
   "execution_count": 18,
   "metadata": {},
   "outputs": [
    {
     "data": {
      "text/plain": [
       "own         342\n",
       "rent         82\n",
       "for free     50\n",
       "Name: housing, dtype: int64"
      ]
     },
     "execution_count": 18,
     "metadata": {},
     "output_type": "execute_result"
    }
   ],
   "source": [
    "credit_df.housing.value_counts()\n",
    "#housing - номинальная шкала\n",
    "#Nan = Nan"
   ]
  },
  {
   "cell_type": "code",
   "execution_count": 19,
   "metadata": {},
   "outputs": [
    {
     "data": {
      "text/plain": [
       "skilled                      312\n",
       "unskilled resident            96\n",
       "high qualif/self emp/mgmt     82\n",
       "unemp/unskilled non res       11\n",
       "Name: job, dtype: int64"
      ]
     },
     "execution_count": 19,
     "metadata": {},
     "output_type": "execute_result"
    }
   ],
   "source": [
    "credit_df.job.value_counts()\n",
    "#personal_status - номинальная шкала\n",
    "#non-null  "
   ]
  },
  {
   "cell_type": "code",
   "execution_count": 20,
   "metadata": {},
   "outputs": [
    {
     "data": {
      "text/plain": [
       "yes    479\n",
       "no      22\n",
       "Name: foreign_worker, dtype: int64"
      ]
     },
     "execution_count": 20,
     "metadata": {},
     "output_type": "execute_result"
    }
   ],
   "source": [
    "credit_df.foreign_worker.value_counts()\n",
    "#personal_status - номинальная шкала (true/false)\n",
    "#non-null  "
   ]
  },
  {
   "cell_type": "code",
   "execution_count": 21,
   "metadata": {},
   "outputs": [
    {
     "data": {
      "text/plain": [
       "good    364\n",
       "bad     137\n",
       "Name: class, dtype: int64"
      ]
     },
     "execution_count": 21,
     "metadata": {},
     "output_type": "execute_result"
    }
   ],
   "source": [
    "credit_df['class'].value_counts()\n",
    "#class - номианльная шкала (true/false)\n",
    "#non-null  "
   ]
  },
  {
   "cell_type": "code",
   "execution_count": 22,
   "metadata": {},
   "outputs": [
    {
     "data": {
      "text/plain": [
       "1.0    323\n",
       "2.0    161\n",
       "3.0     15\n",
       "4.0      2\n",
       "Name: existing_credits, dtype: int64"
      ]
     },
     "execution_count": 22,
     "metadata": {},
     "output_type": "execute_result"
    }
   ],
   "source": [
    "credit_df.existing_credits.value_counts()\n",
    "#existing_credits - абсолютная шкала\n",
    "#non-null  "
   ]
  },
  {
   "cell_type": "code",
   "execution_count": 23,
   "metadata": {},
   "outputs": [
    {
     "data": {
      "text/plain": [
       "1.0    429\n",
       "2.0     72\n",
       "Name: num_dependents, dtype: int64"
      ]
     },
     "execution_count": 23,
     "metadata": {},
     "output_type": "execute_result"
    }
   ],
   "source": [
    "credit_df.num_dependents.value_counts()\n",
    "#num_dependents - абсолютная шкала\n",
    "#non-null  "
   ]
  },
  {
   "cell_type": "code",
   "execution_count": 24,
   "metadata": {},
   "outputs": [
    {
     "data": {
      "text/plain": [
       "checking_status       194\n",
       "duration                0\n",
       "credit_history          0\n",
       "purpose                 0\n",
       "credit_amount           0\n",
       "savings_status         88\n",
       "employment              0\n",
       "personal_status         0\n",
       "property_magnitude      0\n",
       "age                     0\n",
       "housing                27\n",
       "existing_credits        0\n",
       "job                     0\n",
       "num_dependents          0\n",
       "foreign_worker          0\n",
       "class                   0\n",
       "dtype: int64"
      ]
     },
     "execution_count": 24,
     "metadata": {},
     "output_type": "execute_result"
    }
   ],
   "source": [
    "credit_df.isnull().sum()"
   ]
  },
  {
   "cell_type": "code",
   "execution_count": 25,
   "metadata": {},
   "outputs": [
    {
     "name": "stderr",
     "output_type": "stream",
     "text": [
      "c:\\users\\rodsmi\\appdata\\local\\programs\\python\\python38\\lib\\site-packages\\seaborn\\distributions.py:2551: FutureWarning: `distplot` is a deprecated function and will be removed in a future version. Please adapt your code to use either `displot` (a figure-level function with similar flexibility) or `histplot` (an axes-level function for histograms).\n",
      "  warnings.warn(msg, FutureWarning)\n"
     ]
    },
    {
     "data": {
      "text/plain": [
       "<AxesSubplot:xlabel='duration', ylabel='Density'>"
      ]
     },
     "execution_count": 25,
     "metadata": {},
     "output_type": "execute_result"
    },
    {
     "data": {
      "image/png": "[encoded data removed]",
      "text/plain": [
       "<Figure size 432x288 with 1 Axes>"
      ]
     },
     "metadata": {},
     "output_type": "display_data"
    }
   ],
   "source": [
    "sns.distplot(credit_df['duration'])"
   ]
  },
  {
   "cell_type": "code",
   "execution_count": 26,
   "metadata": {},
   "outputs": [
    {
     "name": "stderr",
     "output_type": "stream",
     "text": [
      "c:\\users\\rodsmi\\appdata\\local\\programs\\python\\python38\\lib\\site-packages\\seaborn\\distributions.py:2551: FutureWarning: `distplot` is a deprecated function and will be removed in a future version. Please adapt your code to use either `displot` (a figure-level function with similar flexibility) or `histplot` (an axes-level function for histograms).\n",
      "  warnings.warn(msg, FutureWarning)\n"
     ]
    },
    {
     "data": {
      "text/plain": [
       "<AxesSubplot:xlabel='credit_amount', ylabel='Density'>"
      ]
     },
     "execution_count": 26,
     "metadata": {},
     "output_type": "execute_result"
    },
    {
     "data": {
      "image/png": "[encoded data removed]",
      "text/plain": [
       "<Figure size 432x288 with 1 Axes>"
      ]
     },
     "metadata": {},
     "output_type": "display_data"
    }
   ],
   "source": [
    "sns.distplot(credit_df['credit_amount'])"
   ]
  },
  {
   "cell_type": "code",
   "execution_count": 27,
   "metadata": {},
   "outputs": [
    {
     "name": "stderr",
     "output_type": "stream",
     "text": [
      "c:\\users\\rodsmi\\appdata\\local\\programs\\python\\python38\\lib\\site-packages\\seaborn\\distributions.py:2551: FutureWarning: `distplot` is a deprecated function and will be removed in a future version. Please adapt your code to use either `displot` (a figure-level function with similar flexibility) or `histplot` (an axes-level function for histograms).\n",
      "  warnings.warn(msg, FutureWarning)\n"
     ]
    },
    {
     "data": {
      "text/plain": [
       "<AxesSubplot:xlabel='age', ylabel='Density'>"
      ]
     },
     "execution_count": 27,
     "metadata": {},
     "output_type": "execute_result"
    },
    {
     "data": {
      "image/png": "[encoded data removed]",
      "text/plain": [
       "<Figure size 432x288 with 1 Axes>"
      ]
     },
     "metadata": {},
     "output_type": "display_data"
    }
   ],
   "source": [
    "sns.distplot(credit_df['age']) #похоже на специфику данных"
   ]
  },
  {
   "cell_type": "code",
   "execution_count": 28,
   "metadata": {},
   "outputs": [
    {
     "data": {
      "text/plain": [
       "<AxesSubplot:>"
      ]
     },
     "execution_count": 28,
     "metadata": {},
     "output_type": "execute_result"
    },
    {
     "data": {
      "image/png": "[encoded data removed]",
      "text/plain": [
       "<Figure size 864x504 with 1 Axes>"
      ]
     },
     "metadata": {},
     "output_type": "display_data"
    }
   ],
   "source": [
    "fig, axs = plt.subplots(figsize=(12,7))\n",
    "sns.boxplot(data=credit_df.credit_amount)"
   ]
  },
  {
   "cell_type": "code",
   "execution_count": 29,
   "metadata": {},
   "outputs": [],
   "source": [
    "credit_df['credit_amount_fixed'] = credit_df.credit_amount.clip(lower=credit_df.credit_amount.quantile(0.05), \n",
    "                                                  upper=credit_df.credit_amount.quantile(0.95))"
   ]
  },
  {
   "cell_type": "code",
   "execution_count": 30,
   "metadata": {},
   "outputs": [
    {
     "data": {
      "text/html": [
       "<div>\n",
       "<style scoped>\n",
       "    .dataframe tbody tr th:only-of-type {\n",
       "        vertical-align: middle;\n",
       "    }\n",
       "\n",
       "    .dataframe tbody tr th {\n",
       "        vertical-align: top;\n",
       "    }\n",
       "\n",
       "    .dataframe thead th {\n",
       "        text-align: right;\n",
       "    }\n",
       "</style>\n",
       "<table border=\"1\" class=\"dataframe\">\n",
       "  <thead>\n",
       "    <tr style=\"text-align: right;\">\n",
       "      <th></th>\n",
       "      <th>checking_status</th>\n",
       "      <th>duration</th>\n",
       "      <th>credit_history</th>\n",
       "      <th>purpose</th>\n",
       "      <th>credit_amount</th>\n",
       "      <th>savings_status</th>\n",
       "      <th>employment</th>\n",
       "      <th>personal_status</th>\n",
       "      <th>property_magnitude</th>\n",
       "      <th>age</th>\n",
       "      <th>housing</th>\n",
       "      <th>existing_credits</th>\n",
       "      <th>job</th>\n",
       "      <th>num_dependents</th>\n",
       "      <th>foreign_worker</th>\n",
       "      <th>class</th>\n",
       "      <th>credit_amount_fixed</th>\n",
       "    </tr>\n",
       "  </thead>\n",
       "  <tbody>\n",
       "    <tr>\n",
       "      <th>18</th>\n",
       "      <td>0&lt;=X&lt;200</td>\n",
       "      <td>24.0</td>\n",
       "      <td>existing paid</td>\n",
       "      <td>used car</td>\n",
       "      <td>12579.0</td>\n",
       "      <td>&lt;100</td>\n",
       "      <td>&gt;=7</td>\n",
       "      <td>female div/dep/mar</td>\n",
       "      <td>no known property</td>\n",
       "      <td>44.0</td>\n",
       "      <td>for free</td>\n",
       "      <td>1.0</td>\n",
       "      <td>high qualif/self emp/mgmt</td>\n",
       "      <td>1.0</td>\n",
       "      <td>yes</td>\n",
       "      <td>bad</td>\n",
       "      <td>9055.0</td>\n",
       "    </tr>\n",
       "    <tr>\n",
       "      <th>57</th>\n",
       "      <td>NaN</td>\n",
       "      <td>36.0</td>\n",
       "      <td>critical/other existing credit</td>\n",
       "      <td>radio/tv</td>\n",
       "      <td>9566.0</td>\n",
       "      <td>&lt;100</td>\n",
       "      <td>1&lt;=X&lt;4</td>\n",
       "      <td>female div/dep/mar</td>\n",
       "      <td>car</td>\n",
       "      <td>31.0</td>\n",
       "      <td>own</td>\n",
       "      <td>2.0</td>\n",
       "      <td>skilled</td>\n",
       "      <td>1.0</td>\n",
       "      <td>yes</td>\n",
       "      <td>good</td>\n",
       "      <td>9055.0</td>\n",
       "    </tr>\n",
       "    <tr>\n",
       "      <th>63</th>\n",
       "      <td>0&lt;=X&lt;200</td>\n",
       "      <td>48.0</td>\n",
       "      <td>no credits/all paid</td>\n",
       "      <td>not applicable</td>\n",
       "      <td>14421.0</td>\n",
       "      <td>&lt;100</td>\n",
       "      <td>1&lt;=X&lt;4</td>\n",
       "      <td>male single</td>\n",
       "      <td>car</td>\n",
       "      <td>25.0</td>\n",
       "      <td>own</td>\n",
       "      <td>1.0</td>\n",
       "      <td>skilled</td>\n",
       "      <td>1.0</td>\n",
       "      <td>yes</td>\n",
       "      <td>bad</td>\n",
       "      <td>9055.0</td>\n",
       "    </tr>\n",
       "    <tr>\n",
       "      <th>78</th>\n",
       "      <td>NaN</td>\n",
       "      <td>54.0</td>\n",
       "      <td>no credits/all paid</td>\n",
       "      <td>used car</td>\n",
       "      <td>9436.0</td>\n",
       "      <td>NaN</td>\n",
       "      <td>1&lt;=X&lt;4</td>\n",
       "      <td>male single</td>\n",
       "      <td>life insurance</td>\n",
       "      <td>39.0</td>\n",
       "      <td>own</td>\n",
       "      <td>1.0</td>\n",
       "      <td>unskilled resident</td>\n",
       "      <td>2.0</td>\n",
       "      <td>yes</td>\n",
       "      <td>good</td>\n",
       "      <td>9055.0</td>\n",
       "    </tr>\n",
       "    <tr>\n",
       "      <th>87</th>\n",
       "      <td>0&lt;=X&lt;200</td>\n",
       "      <td>36.0</td>\n",
       "      <td>existing paid</td>\n",
       "      <td>education</td>\n",
       "      <td>12612.0</td>\n",
       "      <td>100&lt;=X&lt;500</td>\n",
       "      <td>1&lt;=X&lt;4</td>\n",
       "      <td>male single</td>\n",
       "      <td>no known property</td>\n",
       "      <td>47.0</td>\n",
       "      <td>for free</td>\n",
       "      <td>1.0</td>\n",
       "      <td>skilled</td>\n",
       "      <td>2.0</td>\n",
       "      <td>yes</td>\n",
       "      <td>bad</td>\n",
       "      <td>9055.0</td>\n",
       "    </tr>\n",
       "    <tr>\n",
       "      <th>95</th>\n",
       "      <td>0&lt;=X&lt;200</td>\n",
       "      <td>54.0</td>\n",
       "      <td>no credits/all paid</td>\n",
       "      <td>not applicable</td>\n",
       "      <td>15945.0</td>\n",
       "      <td>&lt;100</td>\n",
       "      <td>&lt;1</td>\n",
       "      <td>male single</td>\n",
       "      <td>no known property</td>\n",
       "      <td>58.0</td>\n",
       "      <td>rent</td>\n",
       "      <td>1.0</td>\n",
       "      <td>skilled</td>\n",
       "      <td>1.0</td>\n",
       "      <td>yes</td>\n",
       "      <td>bad</td>\n",
       "      <td>9055.0</td>\n",
       "    </tr>\n",
       "    <tr>\n",
       "      <th>105</th>\n",
       "      <td>0&lt;=X&lt;200</td>\n",
       "      <td>24.0</td>\n",
       "      <td>critical/other existing credit</td>\n",
       "      <td>other</td>\n",
       "      <td>11938.0</td>\n",
       "      <td>&lt;100</td>\n",
       "      <td>1&lt;=X&lt;4</td>\n",
       "      <td>male single</td>\n",
       "      <td>car</td>\n",
       "      <td>39.0</td>\n",
       "      <td>own</td>\n",
       "      <td>2.0</td>\n",
       "      <td>high qualif/self emp/mgmt</td>\n",
       "      <td>2.0</td>\n",
       "      <td>yes</td>\n",
       "      <td>bad</td>\n",
       "      <td>9055.0</td>\n",
       "    </tr>\n",
       "    <tr>\n",
       "      <th>134</th>\n",
       "      <td>NaN</td>\n",
       "      <td>60.0</td>\n",
       "      <td>existing paid</td>\n",
       "      <td>radio/tv</td>\n",
       "      <td>10144.0</td>\n",
       "      <td>100&lt;=X&lt;500</td>\n",
       "      <td>4&lt;=X&lt;7</td>\n",
       "      <td>female div/dep/mar</td>\n",
       "      <td>real estate</td>\n",
       "      <td>21.0</td>\n",
       "      <td>own</td>\n",
       "      <td>1.0</td>\n",
       "      <td>skilled</td>\n",
       "      <td>1.0</td>\n",
       "      <td>yes</td>\n",
       "      <td>good</td>\n",
       "      <td>9055.0</td>\n",
       "    </tr>\n",
       "    <tr>\n",
       "      <th>180</th>\n",
       "      <td>NaN</td>\n",
       "      <td>36.0</td>\n",
       "      <td>delayed previously</td>\n",
       "      <td>not applicable</td>\n",
       "      <td>9572.0</td>\n",
       "      <td>&lt;100</td>\n",
       "      <td>&lt;1</td>\n",
       "      <td>male div/sep</td>\n",
       "      <td>car</td>\n",
       "      <td>28.0</td>\n",
       "      <td>own</td>\n",
       "      <td>2.0</td>\n",
       "      <td>skilled</td>\n",
       "      <td>1.0</td>\n",
       "      <td>yes</td>\n",
       "      <td>bad</td>\n",
       "      <td>9055.0</td>\n",
       "    </tr>\n",
       "    <tr>\n",
       "      <th>205</th>\n",
       "      <td>&lt;0</td>\n",
       "      <td>30.0</td>\n",
       "      <td>critical/other existing credit</td>\n",
       "      <td>used car</td>\n",
       "      <td>10623.0</td>\n",
       "      <td>&lt;100</td>\n",
       "      <td>&gt;=7</td>\n",
       "      <td>male single</td>\n",
       "      <td>no known property</td>\n",
       "      <td>38.0</td>\n",
       "      <td>for free</td>\n",
       "      <td>3.0</td>\n",
       "      <td>high qualif/self emp/mgmt</td>\n",
       "      <td>2.0</td>\n",
       "      <td>yes</td>\n",
       "      <td>good</td>\n",
       "      <td>9055.0</td>\n",
       "    </tr>\n",
       "  </tbody>\n",
       "</table>\n",
       "</div>"
      ],
      "text/plain": [
       "    checking_status  duration                  credit_history         purpose  \\\n",
       "18         0<=X<200      24.0                   existing paid        used car   \n",
       "57              NaN      36.0  critical/other existing credit        radio/tv   \n",
       "63         0<=X<200      48.0             no credits/all paid  not applicable   \n",
       "78              NaN      54.0             no credits/all paid        used car   \n",
       "87         0<=X<200      36.0                   existing paid       education   \n",
       "95         0<=X<200      54.0             no credits/all paid  not applicable   \n",
       "105        0<=X<200      24.0  critical/other existing credit           other   \n",
       "134             NaN      60.0                   existing paid        radio/tv   \n",
       "180             NaN      36.0              delayed previously  not applicable   \n",
       "205              <0      30.0  critical/other existing credit        used car   \n",
       "\n",
       "     credit_amount savings_status employment     personal_status  \\\n",
       "18         12579.0           <100        >=7  female div/dep/mar   \n",
       "57          9566.0           <100     1<=X<4  female div/dep/mar   \n",
       "63         14421.0           <100     1<=X<4         male single   \n",
       "78          9436.0            NaN     1<=X<4         male single   \n",
       "87         12612.0     100<=X<500     1<=X<4         male single   \n",
       "95         15945.0           <100         <1         male single   \n",
       "105        11938.0           <100     1<=X<4         male single   \n",
       "134        10144.0     100<=X<500     4<=X<7  female div/dep/mar   \n",
       "180         9572.0           <100         <1        male div/sep   \n",
       "205        10623.0           <100        >=7         male single   \n",
       "\n",
       "    property_magnitude   age   housing  existing_credits  \\\n",
       "18   no known property  44.0  for free               1.0   \n",
       "57                 car  31.0       own               2.0   \n",
       "63                 car  25.0       own               1.0   \n",
       "78      life insurance  39.0       own               1.0   \n",
       "87   no known property  47.0  for free               1.0   \n",
       "95   no known property  58.0      rent               1.0   \n",
       "105                car  39.0       own               2.0   \n",
       "134        real estate  21.0       own               1.0   \n",
       "180                car  28.0       own               2.0   \n",
       "205  no known property  38.0  for free               3.0   \n",
       "\n",
       "                           job  num_dependents foreign_worker class  \\\n",
       "18   high qualif/self emp/mgmt             1.0            yes   bad   \n",
       "57                     skilled             1.0            yes  good   \n",
       "63                     skilled             1.0            yes   bad   \n",
       "78          unskilled resident             2.0            yes  good   \n",
       "87                     skilled             2.0            yes   bad   \n",
       "95                     skilled             1.0            yes   bad   \n",
       "105  high qualif/self emp/mgmt             2.0            yes   bad   \n",
       "134                    skilled             1.0            yes  good   \n",
       "180                    skilled             1.0            yes   bad   \n",
       "205  high qualif/self emp/mgmt             2.0            yes  good   \n",
       "\n",
       "     credit_amount_fixed  \n",
       "18                9055.0  \n",
       "57                9055.0  \n",
       "63                9055.0  \n",
       "78                9055.0  \n",
       "87                9055.0  \n",
       "95                9055.0  \n",
       "105               9055.0  \n",
       "134               9055.0  \n",
       "180               9055.0  \n",
       "205               9055.0  "
      ]
     },
     "execution_count": 30,
     "metadata": {},
     "output_type": "execute_result"
    }
   ],
   "source": [
    "credit_df[credit_df['credit_amount']>credit_df.credit_amount.quantile(0.95)].head(10)"
   ]
  },
  {
   "cell_type": "code",
   "execution_count": 31,
   "metadata": {},
   "outputs": [
    {
     "data": {
      "text/plain": [
       "<AxesSubplot:>"
      ]
     },
     "execution_count": 31,
     "metadata": {},
     "output_type": "execute_result"
    },
    {
     "data": {
      "image/png": "[encoded data removed]",
      "text/plain": [
       "<Figure size 864x504 with 1 Axes>"
      ]
     },
     "metadata": {},
     "output_type": "display_data"
    }
   ],
   "source": [
    "fig, axs = plt.subplots(figsize=(12,7))\n",
    "sns.boxplot(data=credit_df.credit_amount_fixed)"
   ]
  },
  {
   "cell_type": "code",
   "execution_count": 32,
   "metadata": {},
   "outputs": [
    {
     "data": {
      "text/plain": [
       "<AxesSubplot:>"
      ]
     },
     "execution_count": 32,
     "metadata": {},
     "output_type": "execute_result"
    },
    {
     "data": {
      "image/png": "[encoded data removed]",
      "text/plain": [
       "<Figure size 864x504 with 1 Axes>"
      ]
     },
     "metadata": {},
     "output_type": "display_data"
    }
   ],
   "source": [
    "fig, axs = plt.subplots(figsize=(12,7))\n",
    "sns.boxplot(data=credit_df[['duration','age']])"
   ]
  },
  {
   "cell_type": "code",
   "execution_count": 33,
   "metadata": {},
   "outputs": [],
   "source": [
    "credit_df = credit_df.fillna('Unknown')"
   ]
  },
  {
   "cell_type": "code",
   "execution_count": 34,
   "metadata": {},
   "outputs": [
    {
     "data": {
      "image/png": "[encoded data removed]",
      "text/plain": [
       "<Figure size 1008x360 with 3 Axes>"
      ]
     },
     "metadata": {},
     "output_type": "display_data"
    }
   ],
   "source": [
    "_, axes = plt.subplots(nrows=1, ncols=3, figsize=(14, 5))\n",
    "\n",
    "sns.countplot(x='checking_status', data=credit_df, ax=axes[0]);\n",
    "sns.countplot(x='savings_status', data=credit_df, ax=axes[1]);\n",
    "sns.countplot(x='housing', data=credit_df, ax=axes[2]);"
   ]
  },
  {
   "cell_type": "code",
   "execution_count": null,
   "metadata": {},
   "outputs": [],
   "source": []
  },
  {
   "cell_type": "code",
   "execution_count": 35,
   "metadata": {},
   "outputs": [
    {
     "data": {
      "text/plain": [
       "['foreign_worker', 'class']"
      ]
     },
     "execution_count": 35,
     "metadata": {},
     "output_type": "execute_result"
    }
   ],
   "source": [
    "# ОЧИСТКА ДАННЫХ\n",
    "# замена объектного типа на категориальный\n",
    "for i in credit_df:\n",
    "    if(credit_df[i].dtypes == object):\n",
    "         credit_df[i] = credit_df[i].astype('category')\n",
    "\n",
    "            \n",
    "cat_list = credit_df.select_dtypes(include='category').columns.to_list()\n",
    "cat_list\n",
    "\n",
    "\n",
    "new_cat = [i for i in cat_list if i in [\"foreign_worker\", \"class\"]]\n",
    "new_cat"
   ]
  },
  {
   "cell_type": "code",
   "execution_count": 36,
   "metadata": {},
   "outputs": [
    {
     "data": {
      "text/plain": [
       "[['yes', 'no'], ['good', 'bad']]"
      ]
     },
     "execution_count": 36,
     "metadata": {},
     "output_type": "execute_result"
    }
   ],
   "source": [
    "great_list = []\n",
    "for i in new_cat:\n",
    "  new_list = credit_df[i].unique().to_list()\n",
    "  great_list.append(new_list)\n",
    "\n",
    "great_list"
   ]
  },
  {
   "cell_type": "code",
   "execution_count": 37,
   "metadata": {},
   "outputs": [],
   "source": [
    "count = 0\n",
    "for i in new_cat:\n",
    "    credit_df[i+'_num'] = np.where(credit_df[i] == great_list[count][0], 0, 1)\n",
    "    count += 1"
   ]
  },
  {
   "cell_type": "code",
   "execution_count": 38,
   "metadata": {},
   "outputs": [
    {
     "name": "stdout",
     "output_type": "stream",
     "text": [
      "checking_status\n",
      "credit_history\n",
      "purpose\n",
      "savings_status\n",
      "employment\n",
      "personal_status\n",
      "property_magnitude\n",
      "housing\n",
      "job\n",
      "foreign_worker\n",
      "class\n"
     ]
    }
   ],
   "source": [
    "new_df = credit_df\n",
    "\n",
    "for i in cat_list:\n",
    "    print(i);\n",
    "    if i not in [\"foreign_worker\", \"class\"] and credit_df[i].dtypes == 'category': \n",
    "        clearing_df = pd.get_dummies(credit_df[i])\n",
    "        new_df = pd.merge(new_df, clearing_df, right_index=True, left_index=True)\n"
   ]
  },
  {
   "cell_type": "code",
   "execution_count": 39,
   "metadata": {},
   "outputs": [
    {
     "data": {
      "text/html": [
       "<div>\n",
       "<style scoped>\n",
       "    .dataframe tbody tr th:only-of-type {\n",
       "        vertical-align: middle;\n",
       "    }\n",
       "\n",
       "    .dataframe tbody tr th {\n",
       "        vertical-align: top;\n",
       "    }\n",
       "\n",
       "    .dataframe thead th {\n",
       "        text-align: right;\n",
       "    }\n",
       "</style>\n",
       "<table border=\"1\" class=\"dataframe\">\n",
       "  <thead>\n",
       "    <tr style=\"text-align: right;\">\n",
       "      <th></th>\n",
       "      <th>duration</th>\n",
       "      <th>credit_amount</th>\n",
       "      <th>age</th>\n",
       "      <th>existing_credits</th>\n",
       "      <th>num_dependents</th>\n",
       "      <th>credit_amount_fixed</th>\n",
       "      <th>foreign_worker_num</th>\n",
       "      <th>class_num</th>\n",
       "      <th>0</th>\n",
       "      <th>0&lt;=X&lt;200</th>\n",
       "      <th>...</th>\n",
       "      <th>no known property</th>\n",
       "      <th>real estate</th>\n",
       "      <th>Unknown</th>\n",
       "      <th>for free</th>\n",
       "      <th>own</th>\n",
       "      <th>rent</th>\n",
       "      <th>high qualif/self emp/mgmt</th>\n",
       "      <th>skilled</th>\n",
       "      <th>unemp/unskilled non res</th>\n",
       "      <th>unskilled resident</th>\n",
       "    </tr>\n",
       "  </thead>\n",
       "  <tbody>\n",
       "    <tr>\n",
       "      <th>0</th>\n",
       "      <td>6.0</td>\n",
       "      <td>1169.0</td>\n",
       "      <td>67.0</td>\n",
       "      <td>2.0</td>\n",
       "      <td>1.0</td>\n",
       "      <td>1169.0</td>\n",
       "      <td>0</td>\n",
       "      <td>0</td>\n",
       "      <td>0</td>\n",
       "      <td>0</td>\n",
       "      <td>...</td>\n",
       "      <td>0</td>\n",
       "      <td>1</td>\n",
       "      <td>0</td>\n",
       "      <td>0</td>\n",
       "      <td>1</td>\n",
       "      <td>0</td>\n",
       "      <td>0</td>\n",
       "      <td>1</td>\n",
       "      <td>0</td>\n",
       "      <td>0</td>\n",
       "    </tr>\n",
       "    <tr>\n",
       "      <th>1</th>\n",
       "      <td>48.0</td>\n",
       "      <td>5951.0</td>\n",
       "      <td>22.0</td>\n",
       "      <td>1.0</td>\n",
       "      <td>1.0</td>\n",
       "      <td>5951.0</td>\n",
       "      <td>0</td>\n",
       "      <td>1</td>\n",
       "      <td>0</td>\n",
       "      <td>1</td>\n",
       "      <td>...</td>\n",
       "      <td>0</td>\n",
       "      <td>1</td>\n",
       "      <td>0</td>\n",
       "      <td>0</td>\n",
       "      <td>1</td>\n",
       "      <td>0</td>\n",
       "      <td>0</td>\n",
       "      <td>1</td>\n",
       "      <td>0</td>\n",
       "      <td>0</td>\n",
       "    </tr>\n",
       "    <tr>\n",
       "      <th>2</th>\n",
       "      <td>12.0</td>\n",
       "      <td>2096.0</td>\n",
       "      <td>49.0</td>\n",
       "      <td>1.0</td>\n",
       "      <td>2.0</td>\n",
       "      <td>2096.0</td>\n",
       "      <td>0</td>\n",
       "      <td>0</td>\n",
       "      <td>0</td>\n",
       "      <td>0</td>\n",
       "      <td>...</td>\n",
       "      <td>0</td>\n",
       "      <td>1</td>\n",
       "      <td>0</td>\n",
       "      <td>0</td>\n",
       "      <td>1</td>\n",
       "      <td>0</td>\n",
       "      <td>0</td>\n",
       "      <td>0</td>\n",
       "      <td>0</td>\n",
       "      <td>1</td>\n",
       "    </tr>\n",
       "    <tr>\n",
       "      <th>3</th>\n",
       "      <td>42.0</td>\n",
       "      <td>7882.0</td>\n",
       "      <td>45.0</td>\n",
       "      <td>1.0</td>\n",
       "      <td>2.0</td>\n",
       "      <td>7882.0</td>\n",
       "      <td>0</td>\n",
       "      <td>0</td>\n",
       "      <td>0</td>\n",
       "      <td>0</td>\n",
       "      <td>...</td>\n",
       "      <td>0</td>\n",
       "      <td>0</td>\n",
       "      <td>0</td>\n",
       "      <td>1</td>\n",
       "      <td>0</td>\n",
       "      <td>0</td>\n",
       "      <td>0</td>\n",
       "      <td>1</td>\n",
       "      <td>0</td>\n",
       "      <td>0</td>\n",
       "    </tr>\n",
       "    <tr>\n",
       "      <th>4</th>\n",
       "      <td>24.0</td>\n",
       "      <td>4870.0</td>\n",
       "      <td>53.0</td>\n",
       "      <td>2.0</td>\n",
       "      <td>2.0</td>\n",
       "      <td>4870.0</td>\n",
       "      <td>0</td>\n",
       "      <td>1</td>\n",
       "      <td>0</td>\n",
       "      <td>0</td>\n",
       "      <td>...</td>\n",
       "      <td>1</td>\n",
       "      <td>0</td>\n",
       "      <td>0</td>\n",
       "      <td>1</td>\n",
       "      <td>0</td>\n",
       "      <td>0</td>\n",
       "      <td>0</td>\n",
       "      <td>1</td>\n",
       "      <td>0</td>\n",
       "      <td>0</td>\n",
       "    </tr>\n",
       "  </tbody>\n",
       "</table>\n",
       "<p>5 rows × 54 columns</p>\n",
       "</div>"
      ],
      "text/plain": [
       "   duration  credit_amount   age  existing_credits  num_dependents  \\\n",
       "0       6.0         1169.0  67.0               2.0             1.0   \n",
       "1      48.0         5951.0  22.0               1.0             1.0   \n",
       "2      12.0         2096.0  49.0               1.0             2.0   \n",
       "3      42.0         7882.0  45.0               1.0             2.0   \n",
       "4      24.0         4870.0  53.0               2.0             2.0   \n",
       "\n",
       "   credit_amount_fixed  foreign_worker_num  class_num  0  0<=X<200  ...  \\\n",
       "0               1169.0                   0          0  0         0  ...   \n",
       "1               5951.0                   0          1  0         1  ...   \n",
       "2               2096.0                   0          0  0         0  ...   \n",
       "3               7882.0                   0          0  0         0  ...   \n",
       "4               4870.0                   0          1  0         0  ...   \n",
       "\n",
       "   no known property  real estate  Unknown  for free  own  rent  \\\n",
       "0                  0            1        0         0    1     0   \n",
       "1                  0            1        0         0    1     0   \n",
       "2                  0            1        0         0    1     0   \n",
       "3                  0            0        0         1    0     0   \n",
       "4                  1            0        0         1    0     0   \n",
       "\n",
       "   high qualif/self emp/mgmt  skilled  unemp/unskilled non res  \\\n",
       "0                          0        1                        0   \n",
       "1                          0        1                        0   \n",
       "2                          0        0                        0   \n",
       "3                          0        1                        0   \n",
       "4                          0        1                        0   \n",
       "\n",
       "   unskilled resident  \n",
       "0                   0  \n",
       "1                   0  \n",
       "2                   1  \n",
       "3                   0  \n",
       "4                   0  \n",
       "\n",
       "[5 rows x 54 columns]"
      ]
     },
     "execution_count": 39,
     "metadata": {},
     "output_type": "execute_result"
    }
   ],
   "source": [
    "df_new = new_df.select_dtypes(include=np.number)\n",
    "df_new.head()"
   ]
  },
  {
   "cell_type": "code",
   "execution_count": 40,
   "metadata": {},
   "outputs": [
    {
     "name": "stdout",
     "output_type": "stream",
     "text": [
      "<class 'pandas.core.frame.DataFrame'>\n",
      "Int64Index: 501 entries, 0 to 500\n",
      "Data columns (total 54 columns):\n",
      " #   Column                          Non-Null Count  Dtype  \n",
      "---  ------                          --------------  -----  \n",
      " 0   duration                        501 non-null    float64\n",
      " 1   credit_amount                   501 non-null    float64\n",
      " 2   age                             501 non-null    float64\n",
      " 3   existing_credits                501 non-null    float64\n",
      " 4   num_dependents                  501 non-null    float64\n",
      " 5   credit_amount_fixed             501 non-null    float64\n",
      " 6   foreign_worker_num              501 non-null    int32  \n",
      " 7   class_num                       501 non-null    int32  \n",
      " 8   0                               501 non-null    uint8  \n",
      " 9   0<=X<200                        501 non-null    uint8  \n",
      " 10  <0                              501 non-null    uint8  \n",
      " 11  >=200                           501 non-null    uint8  \n",
      " 12  Unknown_x                       501 non-null    uint8  \n",
      " 13  all paid                        501 non-null    uint8  \n",
      " 14  critical/other existing credit  501 non-null    uint8  \n",
      " 15  delayed previously              501 non-null    uint8  \n",
      " 16  existing paid                   501 non-null    uint8  \n",
      " 17  no credits/all paid             501 non-null    uint8  \n",
      " 18  domestic appliance              501 non-null    uint8  \n",
      " 19  education                       501 non-null    uint8  \n",
      " 20  furniture/equipment             501 non-null    uint8  \n",
      " 21  new car                         501 non-null    uint8  \n",
      " 22  not applicable                  501 non-null    uint8  \n",
      " 23  other                           501 non-null    uint8  \n",
      " 24  radio/tv                        501 non-null    uint8  \n",
      " 25  repairs                         501 non-null    uint8  \n",
      " 26  retraining                      501 non-null    uint8  \n",
      " 27  used car                        501 non-null    uint8  \n",
      " 28  100<=X<500                      501 non-null    uint8  \n",
      " 29  500<=X<1000                     501 non-null    uint8  \n",
      " 30  <100                            501 non-null    uint8  \n",
      " 31  >=1000                          501 non-null    uint8  \n",
      " 32  Unknown_y                       501 non-null    uint8  \n",
      " 33  1<=X<4                          501 non-null    uint8  \n",
      " 34  4<=X<7                          501 non-null    uint8  \n",
      " 35  <1                              501 non-null    uint8  \n",
      " 36  >=7                             501 non-null    uint8  \n",
      " 37  unemployed                      501 non-null    uint8  \n",
      " 38  female div/dep/mar              501 non-null    uint8  \n",
      " 39  male div/sep                    501 non-null    uint8  \n",
      " 40  male mar/wid                    501 non-null    uint8  \n",
      " 41  male single                     501 non-null    uint8  \n",
      " 42  car                             501 non-null    uint8  \n",
      " 43  life insurance                  501 non-null    uint8  \n",
      " 44  no known property               501 non-null    uint8  \n",
      " 45  real estate                     501 non-null    uint8  \n",
      " 46  Unknown                         501 non-null    uint8  \n",
      " 47  for free                        501 non-null    uint8  \n",
      " 48  own                             501 non-null    uint8  \n",
      " 49  rent                            501 non-null    uint8  \n",
      " 50  high qualif/self emp/mgmt       501 non-null    uint8  \n",
      " 51  skilled                         501 non-null    uint8  \n",
      " 52  unemp/unskilled non res         501 non-null    uint8  \n",
      " 53  unskilled resident              501 non-null    uint8  \n",
      "dtypes: float64(6), int32(2), uint8(46)\n",
      "memory usage: 73.8 KB\n"
     ]
    }
   ],
   "source": [
    "df_new.info()"
   ]
  },
  {
   "cell_type": "code",
   "execution_count": 41,
   "metadata": {},
   "outputs": [
    {
     "data": {
      "text/plain": [
       "<AxesSubplot:>"
      ]
     },
     "execution_count": 41,
     "metadata": {},
     "output_type": "execute_result"
    },
    {
     "data": {
      "image/png": "[encoded data removed]",
      "text/plain": [
       "<Figure size 1080x1080 with 2 Axes>"
      ]
     },
     "metadata": {},
     "output_type": "display_data"
    }
   ],
   "source": [
    "# Увеличение размера\n",
    "fig, ax = plt.subplots(figsize=(15,15))\n",
    "\n",
    "mask = np.triu(df_new.corr())\n",
    "\n",
    "sns.heatmap(df_new.corr(), cmap= 'coolwarm', mask=mask)\n",
    "\n",
    "#j = 0\n",
    "#for i in credit_df.personal_status_num:\n",
    "#    print(credit_df.personal_status[j], i)\n",
    "#    j+=1"
   ]
  },
  {
   "cell_type": "code",
   "execution_count": 47,
   "metadata": {},
   "outputs": [],
   "source": [
    "# ЧЕСГРЯ, тяжело увидеть зависимости \n",
    "# 1. люди без собственности живут \"for free\" (логична)\n",
    "# 2. больше всего кредит хотят взять самозянатые/высококвалифицированные бомжи???? (возможно стоит почистить данные)\n",
    "# 3. похоже, что неопытные ребята в основном хотят взять кредит на новую машину и переобучение"
   ]
  },
  {
   "cell_type": "code",
   "execution_count": 50,
   "metadata": {},
   "outputs": [
    {
     "name": "stderr",
     "output_type": "stream",
     "text": [
      "*c* argument looks like a single numeric RGB or RGBA sequence, which should be avoided as value-mapping will have precedence in case its length matches with *x* & *y*.  Please use the *color* keyword-argument or provide a 2-D array with a single row if you intend to specify the same RGB or RGBA value for all points.\n"
     ]
    },
    {
     "data": {
      "text/plain": [
       "<AxesSubplot:xlabel='unskilled resident', ylabel='skilled'>"
      ]
     },
     "execution_count": 50,
     "metadata": {},
     "output_type": "execute_result"
    },
    {
     "data": {
      "image/png": "[encoded data removed]",
      "text/plain": [
       "<Figure size 432x288 with 1 Axes>"
      ]
     },
     "metadata": {},
     "output_type": "display_data"
    }
   ],
   "source": [
    "df_new.plot.scatter(x = 'unskilled resident', y = 'skilled')\n",
    "# не понимаю как это работает"
   ]
  },
  {
   "cell_type": "code",
   "execution_count": null,
   "metadata": {},
   "outputs": [],
   "source": []
  }
 ],
 "metadata": {
  "kernelspec": {
   "display_name": "Python 3",
   "language": "python",
   "name": "python3"
  },
  "language_info": {
   "codemirror_mode": {
    "name": "ipython",
    "version": 3
   },
   "file_extension": ".py",
   "mimetype": "text/x-python",
   "name": "python",
   "nbconvert_exporter": "python",
   "pygments_lexer": "ipython3",
   "version": "3.8.5"
  }
 },
 "nbformat": 4,
 "nbformat_minor": 4
}
